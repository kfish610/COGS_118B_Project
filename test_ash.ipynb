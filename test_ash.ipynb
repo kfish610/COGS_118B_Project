{
 "cells": [
  {
   "cell_type": "code",
   "execution_count": 2,
   "metadata": {},
   "outputs": [],
   "source": [
    "# Data Visualization\n",
    "import matplotlib.pyplot as plt\n",
    "\n",
    "# Data Manipulation\n",
    "import numpy as np\n",
    "import pandas as pd\n",
    "\n",
    "# Word2Vec Loading\n",
    "import gensim.downloader as api\n",
    "from gensim.models import KeyedVectors\n",
    "\n",
    "# Trie for fast lookup\n",
    "from datrie import BaseTrie\n",
    "import string\n",
    "\n",
    "# Dimensionality Reduction\n",
    "from umap import UMAP\n",
    "from sklearn.decomposition import PCA\n",
    "from sklearn.cluster import KMeans\n",
    "from sklearn.pipeline import Pipeline\n",
    "from sklearn.preprocessing import StandardScaler\n",
    "from sklearn.metrics import silhouette_score\n",
    "\n",
    "\n",
    "from collections import Counter"
   ]
  },
  {
   "cell_type": "code",
   "execution_count": 23,
   "metadata": {},
   "outputs": [],
   "source": [
    "# Import Google News 300 Word2Vec dataset\n",
    "w2v_model: KeyedVectors = api.load('word2vec-google-news-300')"
   ]
  },
  {
   "cell_type": "code",
   "execution_count": 27,
   "metadata": {},
   "outputs": [],
   "source": [
    "# Make a Trie for O(1) lookup of containment of words\n",
    "t = BaseTrie(string.ascii_lowercase)\n",
    "\n",
    "for x in w2v_model.index_to_key:\n",
    "    t[x] = True"
   ]
  },
  {
   "cell_type": "code",
   "execution_count": 21,
   "metadata": {},
   "outputs": [],
   "source": [
    "# Define a helper function to get the vector of a given word\n",
    "def vec(str):\n",
    "    return w2v_model.vectors[w2v_model.key_to_index[str]]"
   ]
  },
  {
   "cell_type": "code",
   "execution_count": 284,
   "metadata": {},
   "outputs": [],
   "source": [
    "LEN_DATA = 50\n",
    "\n",
    "country_capital = pd.read_csv('BATS_3.0/3_Encyclopedic_semantics/E01 [country - capital].txt', sep='\\t', header=None)\n",
    "male_female = pd.read_csv('BATS_3.0/3_Encyclopedic_semantics/E10 [male - female].txt', sep='\\t', header=None)\n",
    "animal_young = pd.read_csv('BATS_3.0/3_Encyclopedic_semantics/E06 [animal - young].txt', sep='\\t', header=None)\n",
    "meronyms_member = pd.read_csv('BATS_3.0/4_Lexicographic_semantics/L05 [meronyms - member].txt', sep='\\t', header=None)\n",
    "\n",
    "list_data = [ country_capital, male_female, meronyms_member ]\n",
    "\n",
    "# Add pair_id, which uniquely identifies each pair, and relation_id, which identifies the dataset\n",
    "full_df = pd.concat([ df.assign(pair_id=range(LEN_DATA*i, LEN_DATA*(i+1)), relation_id=i) for i, df in enumerate(list_data) ])\n",
    "\n",
    "# Remove all but the first result for the second element of each pair\n",
    "full_df[1] = full_df[1].str.split('/', expand=True)[0]\n",
    "\n",
    "# Remove all pairs where one of the words are not in the word2vec dataset\n",
    "full_df = full_df[full_df[0].apply(t.__contains__) & full_df[1].apply(t.__contains__)]"
   ]
  },
  {
   "cell_type": "code",
   "execution_count": 285,
   "metadata": {},
   "outputs": [],
   "source": [
    "# Put all of the words in one column, keeping the ids\n",
    "df = full_df.melt(id_vars=['pair_id', 'relation_id'], value_vars=[0, 1], value_name='word').drop(columns='variable')"
   ]
  },
  {
   "cell_type": "code",
   "execution_count": 286,
   "metadata": {},
   "outputs": [],
   "source": [
    "# Get vectors for the words (shape 164, 300)\n",
    "word_vecs = np.vstack(df['word'].apply(vec))"
   ]
  },
  {
   "cell_type": "code",
   "execution_count": 287,
   "metadata": {},
   "outputs": [],
   "source": [
    "# Get all combinations (indices of a triangular matrix, excluding the diagonal with an offset of 1)\n",
    "i, j = np.triu_indices(df.shape[0], 1)"
   ]
  },
  {
   "cell_type": "code",
   "execution_count": 299,
   "metadata": {},
   "outputs": [],
   "source": [
    "# Subtract the words from each other to create a relationship vector\n",
    "word_pair_vecs = word_vecs[i] - word_vecs[j]\n",
    "\n",
    "# Half of the vectors will be the wrong way (for example, some will be country-capital, while others will be capital-country)\n",
    "# They will be on opposite sides of any hyperplane, so we choose a hyperplane and flip everything on the wrong side of it\n",
    "# Commented out because the way they're paired right now, this never happens\n",
    "# word_pair_vecs[word_pair_vecs[:, 0] < 0] = -word_pair_vecs[word_pair_vecs[:, 0] < 0]"
   ]
  },
  {
   "cell_type": "code",
   "execution_count": 300,
   "metadata": {},
   "outputs": [],
   "source": [
    "word_pairs = pd.DataFrame([df['word'][i].reset_index(drop=True), df['word'][j].reset_index(drop=True)], index=['word1', 'word2']).T"
   ]
  },
  {
   "cell_type": "code",
   "execution_count": 304,
   "metadata": {},
   "outputs": [],
   "source": [
    "from umap import UMAP\n",
    "pipe = Pipeline([\n",
    "    ('scaler', StandardScaler()),\n",
    "    # ('dim_reduce', UMAP(n_components=2, n_neighbors=5, random_state=42)),\n",
    "    ('dim_reduce', PCA(n_components=2, random_state=42))\n",
    "])\n",
    "\n",
    "transform = pipe.fit_transform(word_pair_vecs[valid_pairs])"
   ]
  },
  {
   "cell_type": "code",
   "execution_count": 297,
   "metadata": {},
   "outputs": [],
   "source": [
    "valid_pairs = df.loc[i, 'pair_id'].reset_index(drop=True) == df.loc[j, 'pair_id'].reset_index(drop=True)\n",
    "cc_cond = (df.loc[i, 'relation_id'].reset_index(drop=True) == 0) & (df.loc[j, 'relation_id'].reset_index(drop=True) == 0)\n",
    "mf_cond = (df.loc[i, 'relation_id'].reset_index(drop=True) == 1) & (df.loc[j, 'relation_id'].reset_index(drop=True) == 1)\n",
    "# ay_cond = (df.loc[i, 'relation_id'].reset_index(drop=True) == 2) & (df.loc[j, 'relation_id'].reset_index(drop=True) == 2)\n",
    "mm_cond = (df.loc[i, 'relation_id'].reset_index(drop=True) == 2) & (df.loc[j, 'relation_id'].reset_index(drop=True) == 2)\n",
    "\n",
    "# Find all pairs that make sense; there's a total of 41 + 41 = 82 of them\n",
    "cc_pairs = transform[valid_pairs & cc_cond]\n",
    "mf_pairs = transform[valid_pairs & mf_cond]\n",
    "mm_pairs = transform[valid_pairs & mm_cond]"
   ]
  },
  {
   "cell_type": "code",
   "execution_count": 278,
   "metadata": {},
   "outputs": [
    {
     "name": "stderr",
     "output_type": "stream",
     "text": [
      "/opt/homebrew/anaconda3/lib/python3.11/site-packages/sklearn/cluster/_kmeans.py:870: FutureWarning: The default value of `n_init` will change from 10 to 'auto' in 1.4. Set the value of `n_init` explicitly to suppress the warning\n",
      "  warnings.warn(\n"
     ]
    }
   ],
   "source": [
    "from sklearn.cluster import DBSCAN\n",
    "\n",
    "\n",
    "# clusters = DBSCAN(eps=2.5, min_samples=7).fit(word_pair_vecs[valid_pairs & ~ay_cond])\n",
    "clusters = KMeans(n_clusters=3, random_state=42).fit(word_pair_vecs[valid_pairs & ~ay_cond])"
   ]
  },
  {
   "cell_type": "code",
   "execution_count": 279,
   "metadata": {},
   "outputs": [
    {
     "data": {
      "text/plain": [
       "0    46\n",
       "1    45\n",
       "2    44\n",
       "Name: count, dtype: int64"
      ]
     },
     "execution_count": 279,
     "metadata": {},
     "output_type": "execute_result"
    }
   ],
   "source": [
    "# clusters.labels_\n",
    "pd.Series(clusters.labels_).value_counts()"
   ]
  },
  {
   "cell_type": "code",
   "execution_count": 282,
   "metadata": {},
   "outputs": [
    {
     "data": {
      "text/plain": [
       "array([1, 0, 1, 1, 1, 1, 1, 1, 1, 1, 1, 1, 1, 1, 1, 1, 1, 1, 1, 1, 1, 1,\n",
       "       1, 1, 2, 0, 1, 1, 1, 1, 0, 1, 1, 1, 1, 1, 1, 2, 1, 1, 1, 1, 1, 1,\n",
       "       1, 1, 1, 1, 0], dtype=int32)"
      ]
     },
     "execution_count": 282,
     "metadata": {},
     "output_type": "execute_result"
    }
   ],
   "source": [
    "clusters.labels_[mf_cond[valid_pairs & ~ay_cond]]"
   ]
  },
  {
   "cell_type": "code",
   "execution_count": null,
   "metadata": {},
   "outputs": [],
   "source": []
  },
  {
   "cell_type": "code",
   "execution_count": 239,
   "metadata": {},
   "outputs": [
    {
     "name": "stdout",
     "output_type": "stream",
     "text": [
      "[0 1 1 1 0 1 1 1 1 1 1 0 1 1 1 1 1 0 1 1 1 1 1 1 1 1 0 1 1 1 1 1 1 0 1 1 1]\n",
      "[1 2 1 1 1 2 1 1 1 1 1 2 1 1 2 2 2 1 1 1 1 1 1 1 1 1 1 2 1 1 2 1 1 1 1 1 2\n",
      " 1 1 1 1 2 1 2 2 1 1 1 1]\n",
      "[0 3 0 3 2 2 0 2 0 2 0 2 2 2 0 2 2 2 0 0 2 1 0 2 2 2 2 0 2 0 3 2 3 0 0 2 1\n",
      " 3 2 2 0 1 3 2 0 2 3 0 0 3]\n",
      "[2 1 2 1 1 0 1 1 2 1 1 1 1 2 1 1 1 2 1 1 0 1 1 1 2 1 1 1 1 1 1 1 1 1 1 1 1\n",
      " 2 1 1 1 2 2 1 1 1 1 0 1]\n"
     ]
    }
   ],
   "source": [
    "pairs = [\n",
    "    cc_cond,\n",
    "    mf_cond,\n",
    "    ay_cond,\n",
    "    mm_cond,\n",
    "]\n",
    "for relationship in pairs:\n",
    "    print(clusters.labels_[relationship[valid_pairs]])"
   ]
  },
  {
   "cell_type": "code",
   "execution_count": 149,
   "metadata": {},
   "outputs": [
    {
     "data": {
      "text/plain": [
       "10    10930\n",
       "8      6850\n",
       "3      6781\n",
       "5      6412\n",
       "13     5469\n",
       "14     5385\n",
       "9      4024\n",
       "1      3990\n",
       "11     3508\n",
       "0      3461\n",
       "7      2662\n",
       "4      2098\n",
       "12     2037\n",
       "6      1896\n",
       "2      1868\n",
       "15      894\n",
       "Name: count, dtype: int64"
      ]
     },
     "execution_count": 149,
     "metadata": {},
     "output_type": "execute_result"
    }
   ],
   "source": [
    "pd.Series(clusters.labels_).value_counts()"
   ]
  },
  {
   "cell_type": "code",
   "execution_count": 307,
   "metadata": {},
   "outputs": [
    {
     "data": {
      "text/plain": [
       "<matplotlib.collections.PathCollection at 0x433dfd210>"
      ]
     },
     "execution_count": 307,
     "metadata": {},
     "output_type": "execute_result"
    },
    {
     "data": {
      "image/png": "[encoded data removed]",
      "text/plain": [
       "<Figure size 640x480 with 1 Axes>"
      ]
     },
     "metadata": {},
     "output_type": "display_data"
    }
   ],
   "source": [
    "# cc_pairs = transform[valid_pairs & cc_cond]\n",
    "# mf_pairs = transform[valid_pairs & mf_cond]\n",
    "# mm_pairs = transform[valid_pairs & mm_cond]\n",
    "\n",
    "cc_pairs = transform[cc_cond[valid_pairs]]\n",
    "mf_pairs = transform[mf_cond[valid_pairs]]\n",
    "mm_pairs = transform[mm_cond[valid_pairs]]\n",
    "\n",
    "plt.scatter(transform[:, 0], transform[:, 1], c='k', s=1, label='other')\n",
    "# plt.scatter(transform[][:, 0], transform[:, 1], c='k', s=0.1, label='other')\n",
    "plt.scatter(mf_pairs[:, 0], mf_pairs[:, 1], c='r', s=4, label='male/female')\n",
    "plt.scatter(cc_pairs[:, 0], cc_pairs[:, 1], c='b', s=4, label='country/capital')\n",
    "plt.scatter(mm_pairs[:, 0], mm_pairs[:, 1], c='m', s=4, label='meronyms/member')\n",
    "# plt.scatter(transform[clusters.labels_ != -1][:, 0], transform[clusters.labels_ != -1][:, 1], c=clusters.labels_[clusters.labels_ != -1], s=4, cmap='viridis', label='clusters')"
   ]
  },
  {
   "cell_type": "code",
   "execution_count": 235,
   "metadata": {},
   "outputs": [
    {
     "name": "stderr",
     "output_type": "stream",
     "text": [
      "/opt/homebrew/anaconda3/lib/python3.11/site-packages/sklearn/cluster/_kmeans.py:870: FutureWarning: The default value of `n_init` will change from 10 to 'auto' in 1.4. Set the value of `n_init` explicitly to suppress the warning\n",
      "  warnings.warn(\n"
     ]
    }
   ],
   "source": [
    "clusters = KMeans(n_clusters=4, random_state=42).fit(cartesian_to_polar(transform))"
   ]
  },
  {
   "cell_type": "code",
   "execution_count": 229,
   "metadata": {},
   "outputs": [],
   "source": [
    "import numpy as np\n",
    "\n",
    "def cartesian_to_polar(points):\n",
    "    x = points[:, 0]\n",
    "    y = points[:, 1]\n",
    "    r = np.sqrt(x**2 + y**2)\n",
    "    theta = np.arctan2(y, x)\n",
    "    return np.column_stack((r, theta))"
   ]
  },
  {
   "cell_type": "code",
   "execution_count": 230,
   "metadata": {},
   "outputs": [
    {
     "data": {
      "text/plain": [
       "array([[ 6.832627  ,  1.4174051 ],\n",
       "       [ 4.7905827 ,  1.673763  ],\n",
       "       [ 5.317832  ,  2.5253434 ],\n",
       "       [ 4.1777444 ,  1.6040319 ],\n",
       "       [ 7.159642  ,  1.6736648 ],\n",
       "       [ 3.006653  ,  1.8179294 ],\n",
       "       [ 2.1864204 ,  2.117318  ],\n",
       "       [ 5.077016  ,  1.5138947 ],\n",
       "       [ 3.7403662 ,  1.1570767 ],\n",
       "       [ 1.5920688 ,  0.47053778],\n",
       "       [ 2.407704  ,  1.33688   ],\n",
       "       [ 9.364719  ,  1.367022  ],\n",
       "       [ 3.3036036 ,  1.3197721 ],\n",
       "       [ 4.945354  ,  1.3970565 ],\n",
       "       [ 6.0515714 ,  1.516725  ],\n",
       "       [ 5.584428  ,  1.538722  ],\n",
       "       [ 3.3231235 ,  1.7240089 ],\n",
       "       [ 7.3866916 ,  1.4136405 ],\n",
       "       [ 4.0832253 ,  1.3776073 ],\n",
       "       [ 5.7263045 ,  1.6639653 ],\n",
       "       [ 3.330184  ,  1.3381732 ],\n",
       "       [ 2.024135  ,  1.794096  ],\n",
       "       [ 1.7486414 ,  1.4241189 ],\n",
       "       [ 4.0235524 ,  1.3866265 ],\n",
       "       [ 2.6794991 ,  1.9699422 ],\n",
       "       [ 2.5171833 ,  1.339152  ],\n",
       "       [ 7.762699  ,  1.3514305 ],\n",
       "       [ 5.0796576 ,  1.718948  ],\n",
       "       [ 5.6624184 ,  1.5275558 ],\n",
       "       [ 4.9771624 ,  1.2829436 ],\n",
       "       [ 5.1503773 ,  1.102705  ],\n",
       "       [ 4.2138705 ,  1.3294891 ],\n",
       "       [ 5.404818  ,  1.2920058 ],\n",
       "       [ 6.856871  ,  1.5319428 ],\n",
       "       [ 4.5953517 ,  1.209226  ],\n",
       "       [ 2.5808594 ,  1.4294041 ],\n",
       "       [ 4.1919847 ,  1.1426622 ],\n",
       "       [ 2.6940048 ,  3.0348895 ],\n",
       "       [ 2.4482288 , -0.6095781 ],\n",
       "       [ 2.742544  ,  2.3684838 ],\n",
       "       [ 2.4226482 ,  2.5988219 ],\n",
       "       [ 6.980713  ,  3.0836735 ],\n",
       "       [ 1.6132596 , -3.122893  ],\n",
       "       [ 3.6964195 ,  2.8814738 ],\n",
       "       [ 3.8731537 ,  2.5792148 ],\n",
       "       [ 2.6358795 ,  2.6205325 ],\n",
       "       [ 2.2513547 ,  2.6175349 ],\n",
       "       [ 2.9615984 ,  2.9315608 ],\n",
       "       [ 2.7523055 , -2.8048532 ],\n",
       "       [ 2.7933977 ,  2.7571592 ],\n",
       "       [ 2.6687326 ,  2.2646494 ],\n",
       "       [ 2.9326315 , -1.6059697 ],\n",
       "       [ 2.9991822 , -3.133972  ],\n",
       "       [ 4.461851  , -3.1059756 ],\n",
       "       [ 2.4932537 ,  3.1181474 ],\n",
       "       [ 1.3236824 ,  2.1542478 ],\n",
       "       [ 2.4816139 ,  2.5803378 ],\n",
       "       [ 1.9554417 ,  2.8414807 ],\n",
       "       [ 3.1633866 ,  2.2738953 ],\n",
       "       [ 4.06146   ,  2.4510016 ],\n",
       "       [ 4.938883  ,  2.9432535 ],\n",
       "       [ 1.8319752 ,  1.1123662 ],\n",
       "       [ 1.8719043 ,  1.355851  ],\n",
       "       [ 3.5915885 ,  2.97637   ],\n",
       "       [ 4.559423  , -2.7610908 ],\n",
       "       [ 2.7187023 ,  2.931579  ],\n",
       "       [ 2.2734532 ,  2.3367796 ],\n",
       "       [ 2.213049  , -1.801869  ],\n",
       "       [ 2.901066  ,  2.9680333 ],\n",
       "       [ 2.543952  ,  2.486527  ],\n",
       "       [ 2.0048966 ,  3.0734549 ],\n",
       "       [ 1.9523687 ,  2.625395  ],\n",
       "       [ 1.9494091 ,  2.752526  ],\n",
       "       [ 6.6927032 , -2.7903085 ],\n",
       "       [ 0.8979838 ,  1.2856377 ],\n",
       "       [ 2.8957758 ,  2.497198  ],\n",
       "       [ 2.6186094 ,  2.9906259 ],\n",
       "       [ 2.476183  ,  2.5498395 ],\n",
       "       [ 2.182906  , -2.7255971 ],\n",
       "       [ 2.6945207 ,  2.3285055 ],\n",
       "       [ 4.7680035 , -2.721956  ],\n",
       "       [ 5.5492425 , -2.5095694 ],\n",
       "       [ 2.3693492 ,  2.6890824 ],\n",
       "       [ 4.315063  ,  2.9855247 ],\n",
       "       [ 2.5666428 ,  3.001696  ],\n",
       "       [ 1.7009541 ,  3.0858302 ],\n",
       "       [ 7.0113397 , -1.5682486 ],\n",
       "       [14.690279  , -0.3263362 ],\n",
       "       [10.605629  , -2.1866713 ],\n",
       "       [16.970482  , -0.31846067],\n",
       "       [ 5.0585256 , -2.4190133 ],\n",
       "       [ 3.635299  , -1.8459584 ],\n",
       "       [ 9.794618  , -1.7038051 ],\n",
       "       [ 4.4554944 , -2.5255384 ],\n",
       "       [ 9.651013  , -1.9703326 ],\n",
       "       [ 3.1583283 , -1.9643736 ],\n",
       "       [ 9.3337    , -1.7340968 ],\n",
       "       [ 6.498742  , -1.3703176 ],\n",
       "       [ 3.4489975 , -2.7436507 ],\n",
       "       [ 5.9218645 , -2.4703867 ],\n",
       "       [ 9.203498  , -2.7348144 ],\n",
       "       [ 3.3393283 , -1.6441377 ],\n",
       "       [ 1.6395144 , -2.1040993 ],\n",
       "       [ 4.612821  , -2.6167636 ],\n",
       "       [ 8.985262  , -1.7226657 ],\n",
       "       [12.742362  , -0.34303188],\n",
       "       [ 3.297157  , -1.7891572 ],\n",
       "       [ 2.7126882 ,  2.06619   ],\n",
       "       [11.767477  , -2.0432587 ],\n",
       "       [ 2.8856137 , -0.3839963 ],\n",
       "       [ 3.1055126 , -2.2099247 ],\n",
       "       [ 5.6446767 , -1.5252624 ],\n",
       "       [ 3.9275258 , -1.5776011 ],\n",
       "       [ 7.2181673 , -2.2793882 ],\n",
       "       [ 3.6902    , -2.3709834 ],\n",
       "       [11.589576  , -2.1897821 ],\n",
       "       [16.977613  , -0.2625464 ],\n",
       "       [ 6.1014185 , -1.770082  ],\n",
       "       [19.42292   , -0.28914994],\n",
       "       [11.057479  , -1.9508604 ],\n",
       "       [ 8.242884  , -2.2430534 ],\n",
       "       [ 4.307308  , -2.294261  ],\n",
       "       [ 0.99417096, -0.04433959],\n",
       "       [18.31976   , -0.16098206],\n",
       "       [ 2.4146821 , -1.2408907 ],\n",
       "       [ 6.070712  , -2.738402  ],\n",
       "       [12.356083  , -2.0874796 ],\n",
       "       [ 1.0989121 ,  3.0860853 ],\n",
       "       [16.47135   , -0.28494492],\n",
       "       [ 6.173986  , -2.2530932 ],\n",
       "       [11.12282   , -2.0615947 ],\n",
       "       [ 2.8832686 , -0.7758206 ],\n",
       "       [15.495599  , -0.4075733 ],\n",
       "       [ 7.94245   , -1.5164384 ],\n",
       "       [11.804446  , -1.8373545 ],\n",
       "       [18.341541  , -0.26489288],\n",
       "       [ 3.2703109 , -1.93137   ],\n",
       "       [ 1.7839801 ,  0.128597  ],\n",
       "       [ 2.8646216 , -0.3509399 ],\n",
       "       [ 4.137041  ,  0.18317072],\n",
       "       [ 2.8062842 ,  2.1455462 ],\n",
       "       [12.242953  ,  1.4928106 ],\n",
       "       [ 1.826442  ,  1.657131  ],\n",
       "       [ 0.17342308,  2.182514  ],\n",
       "       [ 4.1590405 , -1.9950302 ],\n",
       "       [ 3.0456705 ,  1.4895365 ],\n",
       "       [ 2.4481027 ,  1.7613859 ],\n",
       "       [ 1.1916991 ,  1.0789958 ],\n",
       "       [ 1.2057065 ,  1.9215524 ],\n",
       "       [ 3.7764835 , -0.23369217],\n",
       "       [ 2.057574  ,  2.2092304 ],\n",
       "       [ 0.473284  ,  1.4468907 ],\n",
       "       [ 1.8810472 ,  0.2128755 ],\n",
       "       [ 4.509769  , -0.25140247],\n",
       "       [ 2.5100274 , -0.02797656],\n",
       "       [ 2.0906954 ,  1.6199875 ],\n",
       "       [ 7.2076516 , -0.17621364],\n",
       "       [ 3.876792  ,  0.4941163 ],\n",
       "       [ 4.8215322 ,  0.86474174],\n",
       "       [ 4.372131  ,  1.853104  ],\n",
       "       [ 4.877185  , -0.30442703],\n",
       "       [ 2.1416433 ,  1.0743227 ],\n",
       "       [ 2.2409651 ,  0.6104054 ],\n",
       "       [ 2.2560208 ,  1.6661533 ],\n",
       "       [ 0.6323952 ,  1.4230437 ],\n",
       "       [ 1.6396606 ,  1.783975  ],\n",
       "       [ 2.7751048 ,  1.096668  ],\n",
       "       [ 2.9431665 ,  1.1563085 ],\n",
       "       [ 0.76161605,  2.7697947 ],\n",
       "       [ 2.3772979 ,  1.0349193 ],\n",
       "       [ 1.115449  ,  1.4678475 ],\n",
       "       [ 1.0698935 ,  1.3576293 ],\n",
       "       [ 4.001416  ,  1.1172138 ],\n",
       "       [ 2.5208993 , -0.33242962],\n",
       "       [ 3.4695954 ,  0.97405386],\n",
       "       [ 2.507884  ,  1.2426597 ],\n",
       "       [ 4.207742  ,  0.8303278 ],\n",
       "       [ 0.70232004, -2.6503468 ],\n",
       "       [ 0.4618489 , -1.2508466 ],\n",
       "       [ 3.7753513 ,  1.7824103 ],\n",
       "       [ 2.1390977 ,  1.2034183 ],\n",
       "       [ 3.1609547 ,  0.7378801 ],\n",
       "       [ 4.783911  ,  1.7671199 ],\n",
       "       [ 9.943415  , -0.3934236 ],\n",
       "       [ 1.1993617 ,  2.2222526 ]], dtype=float32)"
      ]
     },
     "execution_count": 230,
     "metadata": {},
     "output_type": "execute_result"
    }
   ],
   "source": []
  },
  {
   "cell_type": "code",
   "execution_count": 90,
   "metadata": {},
   "outputs": [
    {
     "data": {
      "text/plain": [
       "0.038430143"
      ]
     },
     "execution_count": 90,
     "metadata": {},
     "output_type": "execute_result"
    }
   ],
   "source": [
    "silhouette_score(word_pair_vecs, clusters.labels_)"
   ]
  },
  {
   "cell_type": "code",
   "execution_count": 21,
   "metadata": {},
   "outputs": [
    {
     "data": {
      "text/plain": [
       "Counter({1: 45,\n",
       "         26: 27,\n",
       "         3: 9,\n",
       "         2: 8,\n",
       "         6: 6,\n",
       "         10: 3,\n",
       "         4: 2,\n",
       "         15: 2,\n",
       "         25: 2,\n",
       "         30: 1,\n",
       "         12: 1,\n",
       "         7: 1,\n",
       "         13: 1,\n",
       "         27: 1,\n",
       "         19: 1,\n",
       "         11: 1,\n",
       "         20: 1,\n",
       "         31: 1,\n",
       "         24: 1,\n",
       "         29: 1,\n",
       "         21: 1,\n",
       "         22: 1,\n",
       "         17: 1,\n",
       "         28: 1,\n",
       "         0: 1,\n",
       "         23: 1,\n",
       "         16: 1,\n",
       "         18: 1})"
      ]
     },
     "execution_count": 21,
     "metadata": {},
     "output_type": "execute_result"
    }
   ],
   "source": [
    "pairs = clusters.labels_[i+41 == j]\n",
    "Counter(pairs)"
   ]
  },
  {
   "cell_type": "code",
   "execution_count": 22,
   "metadata": {},
   "outputs": [],
   "source": [
    "total_pairs = pairs.shape"
   ]
  },
  {
   "cell_type": "code",
   "execution_count": 23,
   "metadata": {},
   "outputs": [
    {
     "data": {
      "text/plain": [
       "(13366,)"
      ]
     },
     "execution_count": 23,
     "metadata": {},
     "output_type": "execute_result"
    }
   ],
   "source": [
    "clusters.labels_.shape"
   ]
  },
  {
   "cell_type": "code",
   "execution_count": 24,
   "metadata": {},
   "outputs": [],
   "source": [
    "def f1_score(precision, recall):\n",
    "    return 2 * ((precision * recall)/(precision + recall))"
   ]
  },
  {
   "cell_type": "code",
   "execution_count": 32,
   "metadata": {},
   "outputs": [],
   "source": [
    "def cluster_scorer(estimator):\n",
    "    \n",
    "    mf_dict = Counter(estimator.labels_[(i < 82) & (j < 82) & (i+41 == j)])\n",
    "    cc_dict = Counter(estimator.labels_[(i >= 82) & (j >= 82) & (i+41 == j)])\n",
    "\n",
    "    mf_cluster, mf_retrieved = mf_dict.most_common(1)[0]\n",
    "    cc_cluster, cc_retrieved = cc_dict.most_common(1)[0]\n",
    "\n",
    "    mf_precision = mf_retrieved / word_pairs[estimator.labels_ == mf_cluster].shape[0]\n",
    "    mf_recall = mf_retrieved / 41\n",
    "\n",
    "    cc_precision = cc_retrieved / word_pairs[estimator.labels_ == cc_cluster].shape[0]\n",
    "    cc_recall = cc_retrieved / 41\n",
    "\n",
    "    mf_f1 = f1_score(mf_precision, mf_recall)\n",
    "    cc_f1 = f1_score(cc_precision, cc_recall)\n",
    "\n",
    "    return (mf_f1 + cc_f1) / 2"
   ]
  },
  {
   "cell_type": "code",
   "execution_count": 33,
   "metadata": {},
   "outputs": [
    {
     "data": {
      "text/plain": [
       "Counter({1: 34, 30: 1, 12: 1, 7: 1, 13: 1, 27: 1, 19: 1, 11: 1})"
      ]
     },
     "execution_count": 33,
     "metadata": {},
     "output_type": "execute_result"
    }
   ],
   "source": [
    "Counter(clusters.labels_[(i < 82) & (j < 82) & (i+41 == j)])"
   ]
  },
  {
   "cell_type": "code",
   "execution_count": 34,
   "metadata": {},
   "outputs": [
    {
     "data": {
      "text/plain": [
       "0.03069699240089153"
      ]
     },
     "execution_count": 34,
     "metadata": {},
     "output_type": "execute_result"
    }
   ],
   "source": [
    "cluster_scorer(clusters)"
   ]
  },
  {
   "cell_type": "code",
   "execution_count": 35,
   "metadata": {},
   "outputs": [
    {
     "data": {
      "text/html": [
       "<div>\n",
       "<style scoped>\n",
       "    .dataframe tbody tr th:only-of-type {\n",
       "        vertical-align: middle;\n",
       "    }\n",
       "\n",
       "    .dataframe tbody tr th {\n",
       "        vertical-align: top;\n",
       "    }\n",
       "\n",
       "    .dataframe thead th {\n",
       "        text-align: right;\n",
       "    }\n",
       "</style>\n",
       "<table border=\"1\" class=\"dataframe\">\n",
       "  <thead>\n",
       "    <tr style=\"text-align: right;\">\n",
       "      <th></th>\n",
       "      <th>word1</th>\n",
       "      <th>word2</th>\n",
       "    </tr>\n",
       "  </thead>\n",
       "  <tbody>\n",
       "    <tr>\n",
       "      <th>4588</th>\n",
       "      <td>nobleman</td>\n",
       "      <td>baron</td>\n",
       "    </tr>\n",
       "    <tr>\n",
       "      <th>4589</th>\n",
       "      <td>nobleman</td>\n",
       "      <td>handyman</td>\n",
       "    </tr>\n",
       "    <tr>\n",
       "      <th>4590</th>\n",
       "      <td>nobleman</td>\n",
       "      <td>chairman</td>\n",
       "    </tr>\n",
       "    <tr>\n",
       "      <th>4591</th>\n",
       "      <td>nobleman</td>\n",
       "      <td>cameraman</td>\n",
       "    </tr>\n",
       "    <tr>\n",
       "      <th>4592</th>\n",
       "      <td>nobleman</td>\n",
       "      <td>husband</td>\n",
       "    </tr>\n",
       "    <tr>\n",
       "      <th>...</th>\n",
       "      <td>...</td>\n",
       "      <td>...</td>\n",
       "    </tr>\n",
       "    <tr>\n",
       "      <th>9265</th>\n",
       "      <td>noblewoman</td>\n",
       "      <td>warsaw</td>\n",
       "    </tr>\n",
       "    <tr>\n",
       "      <th>9266</th>\n",
       "      <td>noblewoman</td>\n",
       "      <td>vienna</td>\n",
       "    </tr>\n",
       "    <tr>\n",
       "      <th>9267</th>\n",
       "      <td>noblewoman</td>\n",
       "      <td>copenhagen</td>\n",
       "    </tr>\n",
       "    <tr>\n",
       "      <th>9268</th>\n",
       "      <td>noblewoman</td>\n",
       "      <td>lima</td>\n",
       "    </tr>\n",
       "    <tr>\n",
       "      <th>9269</th>\n",
       "      <td>noblewoman</td>\n",
       "      <td>helsinki</td>\n",
       "    </tr>\n",
       "  </tbody>\n",
       "</table>\n",
       "<p>308 rows × 2 columns</p>\n",
       "</div>"
      ],
      "text/plain": [
       "           word1       word2\n",
       "4588    nobleman       baron\n",
       "4589    nobleman    handyman\n",
       "4590    nobleman    chairman\n",
       "4591    nobleman   cameraman\n",
       "4592    nobleman     husband\n",
       "...          ...         ...\n",
       "9265  noblewoman      warsaw\n",
       "9266  noblewoman      vienna\n",
       "9267  noblewoman  copenhagen\n",
       "9268  noblewoman        lima\n",
       "9269  noblewoman    helsinki\n",
       "\n",
       "[308 rows x 2 columns]"
      ]
     },
     "execution_count": 35,
     "metadata": {},
     "output_type": "execute_result"
    }
   ],
   "source": [
    "word_pairs[clusters.labels_ == 15]"
   ]
  },
  {
   "cell_type": "code",
   "execution_count": 49,
   "metadata": {},
   "outputs": [],
   "source": [
    "for i in range(0, 63):\n",
    "    word_pairs[clusters.labels_==i]"
   ]
  },
  {
   "cell_type": "code",
   "execution_count": 65,
   "metadata": {},
   "outputs": [
    {
     "data": {
      "text/html": [
       "<div>\n",
       "<style scoped>\n",
       "    .dataframe tbody tr th:only-of-type {\n",
       "        vertical-align: middle;\n",
       "    }\n",
       "\n",
       "    .dataframe tbody tr th {\n",
       "        vertical-align: top;\n",
       "    }\n",
       "\n",
       "    .dataframe thead th {\n",
       "        text-align: right;\n",
       "    }\n",
       "</style>\n",
       "<table border=\"1\" class=\"dataframe\">\n",
       "  <thead>\n",
       "    <tr style=\"text-align: right;\">\n",
       "      <th></th>\n",
       "      <th>word1</th>\n",
       "      <th>word2</th>\n",
       "    </tr>\n",
       "  </thead>\n",
       "  <tbody>\n",
       "    <tr>\n",
       "      <th>2926</th>\n",
       "      <td>ogre</td>\n",
       "      <td>yogi</td>\n",
       "    </tr>\n",
       "    <tr>\n",
       "      <th>2927</th>\n",
       "      <td>ogre</td>\n",
       "      <td>godbrother</td>\n",
       "    </tr>\n",
       "    <tr>\n",
       "      <th>2928</th>\n",
       "      <td>ogre</td>\n",
       "      <td>prince</td>\n",
       "    </tr>\n",
       "    <tr>\n",
       "      <th>2929</th>\n",
       "      <td>ogre</td>\n",
       "      <td>son</td>\n",
       "    </tr>\n",
       "    <tr>\n",
       "      <th>2930</th>\n",
       "      <td>ogre</td>\n",
       "      <td>uncle</td>\n",
       "    </tr>\n",
       "    <tr>\n",
       "      <th>...</th>\n",
       "      <td>...</td>\n",
       "      <td>...</td>\n",
       "    </tr>\n",
       "    <tr>\n",
       "      <th>3065</th>\n",
       "      <td>ogre</td>\n",
       "      <td>vienna</td>\n",
       "    </tr>\n",
       "    <tr>\n",
       "      <th>3066</th>\n",
       "      <td>ogre</td>\n",
       "      <td>copenhagen</td>\n",
       "    </tr>\n",
       "    <tr>\n",
       "      <th>3067</th>\n",
       "      <td>ogre</td>\n",
       "      <td>lima</td>\n",
       "    </tr>\n",
       "    <tr>\n",
       "      <th>3068</th>\n",
       "      <td>ogre</td>\n",
       "      <td>helsinki</td>\n",
       "    </tr>\n",
       "    <tr>\n",
       "      <th>3069</th>\n",
       "      <td>ogre</td>\n",
       "      <td>muscat</td>\n",
       "    </tr>\n",
       "  </tbody>\n",
       "</table>\n",
       "<p>142 rows × 2 columns</p>\n",
       "</div>"
      ],
      "text/plain": [
       "     word1       word2\n",
       "2926  ogre        yogi\n",
       "2927  ogre  godbrother\n",
       "2928  ogre      prince\n",
       "2929  ogre         son\n",
       "2930  ogre       uncle\n",
       "...    ...         ...\n",
       "3065  ogre      vienna\n",
       "3066  ogre  copenhagen\n",
       "3067  ogre        lima\n",
       "3068  ogre    helsinki\n",
       "3069  ogre      muscat\n",
       "\n",
       "[142 rows x 2 columns]"
      ]
     },
     "execution_count": 65,
     "metadata": {},
     "output_type": "execute_result"
    }
   ],
   "source": [
    "word_pairs[clusters.labels_==0]"
   ]
  },
  {
   "cell_type": "code",
   "execution_count": 21,
   "metadata": {},
   "outputs": [
    {
     "data": {
      "text/plain": [
       "[('businesswoman', 0.7828382849693298),\n",
       " ('entrepreneur', 0.5662969946861267),\n",
       " ('housewife', 0.5576657056808472),\n",
       " ('Businessman', 0.5546095967292786),\n",
       " ('woman', 0.5489617586135864),\n",
       " ('businesman', 0.5328840017318726),\n",
       " ('businessperson', 0.5321270823478699),\n",
       " ('resident', 0.5286872982978821),\n",
       " ('schoolteacher', 0.5228217244148254),\n",
       " ('restaurateur', 0.5167855620384216)]"
      ]
     },
     "execution_count": 21,
     "metadata": {},
     "output_type": "execute_result"
    }
   ],
   "source": [
    "w2v_model.most_similar(positive=['mother', 'businessman'], negative=['father'])"
   ]
  },
  {
   "cell_type": "code",
   "execution_count": 22,
   "metadata": {},
   "outputs": [
    {
     "data": {
      "text/plain": [
       "[('businesswoman', 0.6089984774589539),\n",
       " ('actor', 0.5787507891654968),\n",
       " ('Actress', 0.5160931348800659),\n",
       " ('socialite', 0.48045045137405396),\n",
       " ('songstress', 0.47421637177467346),\n",
       " ('comedienne', 0.4685734510421753),\n",
       " ('actresses', 0.46831855177879333),\n",
       " ('thesp', 0.46185967326164246),\n",
       " ('politician', 0.45722687244415283),\n",
       " ('actress_Andie_MacDowell', 0.4430975317955017)]"
      ]
     },
     "execution_count": 22,
     "metadata": {},
     "output_type": "execute_result"
    }
   ],
   "source": [
    "w2v_model.most_similar(positive=['actress', 'businessman'], negative=['father'])"
   ]
  },
  {
   "cell_type": "code",
   "execution_count": 23,
   "metadata": {},
   "outputs": [
    {
     "data": {
      "text/plain": [
       "[('actor', 0.7930010557174683),\n",
       " ('Actress', 0.7470887899398804),\n",
       " ('actresses', 0.7134618163108826),\n",
       " ('actress_Rachel_Weisz', 0.6638520359992981),\n",
       " ('Best_Actress', 0.6395923495292664),\n",
       " ('singer', 0.6364269852638245),\n",
       " ('CATE_BLANCHETT', 0.6363811492919922),\n",
       " ('actresss', 0.6308683753013611),\n",
       " ('blonde_beauty', 0.6293762922286987),\n",
       " ('thesp', 0.6286961436271667)]"
      ]
     },
     "execution_count": 23,
     "metadata": {},
     "output_type": "execute_result"
    }
   ],
   "source": [
    "w2v_model.most_similar(positive=['actress'])"
   ]
  },
  {
   "cell_type": "code",
   "execution_count": 24,
   "metadata": {},
   "outputs": [
    {
     "data": {
      "text/plain": [
       "0.42112362"
      ]
     },
     "execution_count": 24,
     "metadata": {},
     "output_type": "execute_result"
    }
   ],
   "source": [
    "w2v_model.similarity('mother', 'actress')"
   ]
  },
  {
   "cell_type": "code",
   "execution_count": 25,
   "metadata": {},
   "outputs": [
    {
     "data": {
      "text/plain": [
       "0.41853"
      ]
     },
     "execution_count": 25,
     "metadata": {},
     "output_type": "execute_result"
    }
   ],
   "source": [
    "w2v_model.similarity('father', 'businessman')"
   ]
  },
  {
   "cell_type": "code",
   "execution_count": 28,
   "metadata": {},
   "outputs": [
    {
     "data": {
      "text/plain": [
       "[('entrepreneur', 0.42547309398651123),\n",
       " ('businessmen', 0.42060863971710205),\n",
       " ('George_Behrakis', 0.40702372789382935),\n",
       " ('industrialist', 0.39802905917167664),\n",
       " ('wealthy_businessman', 0.3973967134952545),\n",
       " ('Beijing_AustChina_Technology', 0.390698105096817),\n",
       " ('venture_capitalist', 0.39069175720214844),\n",
       " ('tycoon', 0.3837265968322754),\n",
       " ('Businessman', 0.3836364448070526),\n",
       " ('Louis_Beecherl', 0.38110217452049255)]"
      ]
     },
     "execution_count": 28,
     "metadata": {},
     "output_type": "execute_result"
    }
   ],
   "source": [
    "w2v_model.most_similar(positive=['businessman'], negative=['man'])"
   ]
  },
  {
   "cell_type": "code",
   "execution_count": 27,
   "metadata": {},
   "outputs": [
    {
     "data": {
      "text/html": [
       "<div>\n",
       "<style scoped>\n",
       "    .dataframe tbody tr th:only-of-type {\n",
       "        vertical-align: middle;\n",
       "    }\n",
       "\n",
       "    .dataframe tbody tr th {\n",
       "        vertical-align: top;\n",
       "    }\n",
       "\n",
       "    .dataframe thead th {\n",
       "        text-align: right;\n",
       "    }\n",
       "</style>\n",
       "<table border=\"1\" class=\"dataframe\">\n",
       "  <thead>\n",
       "    <tr style=\"text-align: right;\">\n",
       "      <th></th>\n",
       "      <th>maleL</th>\n",
       "      <th>femaleL</th>\n",
       "    </tr>\n",
       "  </thead>\n",
       "  <tbody>\n",
       "    <tr>\n",
       "      <th>4</th>\n",
       "      <td>businessman</td>\n",
       "      <td>businesswoman</td>\n",
       "    </tr>\n",
       "    <tr>\n",
       "      <th>5</th>\n",
       "      <td>emperor</td>\n",
       "      <td>empress</td>\n",
       "    </tr>\n",
       "    <tr>\n",
       "      <th>6</th>\n",
       "      <td>actor</td>\n",
       "      <td>actress</td>\n",
       "    </tr>\n",
       "    <tr>\n",
       "      <th>7</th>\n",
       "      <td>brother</td>\n",
       "      <td>sister</td>\n",
       "    </tr>\n",
       "    <tr>\n",
       "      <th>8</th>\n",
       "      <td>king</td>\n",
       "      <td>queen</td>\n",
       "    </tr>\n",
       "    <tr>\n",
       "      <th>11</th>\n",
       "      <td>newspaperman</td>\n",
       "      <td>newspaperwoman</td>\n",
       "    </tr>\n",
       "    <tr>\n",
       "      <th>16</th>\n",
       "      <td>prior</td>\n",
       "      <td>prioress</td>\n",
       "    </tr>\n",
       "    <tr>\n",
       "      <th>23</th>\n",
       "      <td>nephew</td>\n",
       "      <td>niece</td>\n",
       "    </tr>\n",
       "    <tr>\n",
       "      <th>24</th>\n",
       "      <td>batsman</td>\n",
       "      <td>batswoman</td>\n",
       "    </tr>\n",
       "    <tr>\n",
       "      <th>31</th>\n",
       "      <td>salesman</td>\n",
       "      <td>saleswoman</td>\n",
       "    </tr>\n",
       "    <tr>\n",
       "      <th>50</th>\n",
       "      <td>duke</td>\n",
       "      <td>duchess</td>\n",
       "    </tr>\n",
       "    <tr>\n",
       "      <th>65</th>\n",
       "      <td>goodman</td>\n",
       "      <td>goody</td>\n",
       "    </tr>\n",
       "    <tr>\n",
       "      <th>75</th>\n",
       "      <td>count</td>\n",
       "      <td>countess</td>\n",
       "    </tr>\n",
       "    <tr>\n",
       "      <th>80</th>\n",
       "      <td>warlock</td>\n",
       "      <td>witch</td>\n",
       "    </tr>\n",
       "    <tr>\n",
       "      <th>84</th>\n",
       "      <td>godson</td>\n",
       "      <td>goddaughter</td>\n",
       "    </tr>\n",
       "    <tr>\n",
       "      <th>85</th>\n",
       "      <td>statesman</td>\n",
       "      <td>stateswoman</td>\n",
       "    </tr>\n",
       "    <tr>\n",
       "      <th>88</th>\n",
       "      <td>grandson</td>\n",
       "      <td>granddaughter</td>\n",
       "    </tr>\n",
       "    <tr>\n",
       "      <th>95</th>\n",
       "      <td>fisherman</td>\n",
       "      <td>fisherwoman</td>\n",
       "    </tr>\n",
       "    <tr>\n",
       "      <th>97</th>\n",
       "      <td>stepson</td>\n",
       "      <td>stepdaughter</td>\n",
       "    </tr>\n",
       "    <tr>\n",
       "      <th>100</th>\n",
       "      <td>ogre</td>\n",
       "      <td>ogress</td>\n",
       "    </tr>\n",
       "    <tr>\n",
       "      <th>101</th>\n",
       "      <td>yogi</td>\n",
       "      <td>yogini</td>\n",
       "    </tr>\n",
       "    <tr>\n",
       "      <th>102</th>\n",
       "      <td>godbrother</td>\n",
       "      <td>godsister</td>\n",
       "    </tr>\n",
       "    <tr>\n",
       "      <th>118</th>\n",
       "      <td>prince</td>\n",
       "      <td>princess</td>\n",
       "    </tr>\n",
       "    <tr>\n",
       "      <th>132</th>\n",
       "      <td>son</td>\n",
       "      <td>daughter</td>\n",
       "    </tr>\n",
       "    <tr>\n",
       "      <th>145</th>\n",
       "      <td>uncle</td>\n",
       "      <td>aunt</td>\n",
       "    </tr>\n",
       "    <tr>\n",
       "      <th>150</th>\n",
       "      <td>sportsman</td>\n",
       "      <td>sportswoman</td>\n",
       "    </tr>\n",
       "    <tr>\n",
       "      <th>154</th>\n",
       "      <td>stepfather</td>\n",
       "      <td>stepmother</td>\n",
       "    </tr>\n",
       "    <tr>\n",
       "      <th>166</th>\n",
       "      <td>frontiersman</td>\n",
       "      <td>frontierswoman</td>\n",
       "    </tr>\n",
       "    <tr>\n",
       "      <th>171</th>\n",
       "      <td>himself</td>\n",
       "      <td>herself</td>\n",
       "    </tr>\n",
       "    <tr>\n",
       "      <th>173</th>\n",
       "      <td>cowboy</td>\n",
       "      <td>cowgirls</td>\n",
       "    </tr>\n",
       "    <tr>\n",
       "      <th>180</th>\n",
       "      <td>grandfather</td>\n",
       "      <td>grandmother</td>\n",
       "    </tr>\n",
       "    <tr>\n",
       "      <th>181</th>\n",
       "      <td>nobleman</td>\n",
       "      <td>noblewoman</td>\n",
       "    </tr>\n",
       "    <tr>\n",
       "      <th>185</th>\n",
       "      <td>baron</td>\n",
       "      <td>baroness</td>\n",
       "    </tr>\n",
       "    <tr>\n",
       "      <th>188</th>\n",
       "      <td>handyman</td>\n",
       "      <td>handywoman</td>\n",
       "    </tr>\n",
       "    <tr>\n",
       "      <th>196</th>\n",
       "      <td>chairman</td>\n",
       "      <td>chairwoman</td>\n",
       "    </tr>\n",
       "    <tr>\n",
       "      <th>226</th>\n",
       "      <td>cameraman</td>\n",
       "      <td>camerawoman</td>\n",
       "    </tr>\n",
       "    <tr>\n",
       "      <th>227</th>\n",
       "      <td>husband</td>\n",
       "      <td>wife</td>\n",
       "    </tr>\n",
       "    <tr>\n",
       "      <th>232</th>\n",
       "      <td>huntsman</td>\n",
       "      <td>huntress</td>\n",
       "    </tr>\n",
       "    <tr>\n",
       "      <th>295</th>\n",
       "      <td>houseboy</td>\n",
       "      <td>maid</td>\n",
       "    </tr>\n",
       "    <tr>\n",
       "      <th>297</th>\n",
       "      <td>layman</td>\n",
       "      <td>laywoman</td>\n",
       "    </tr>\n",
       "    <tr>\n",
       "      <th>300</th>\n",
       "      <td>godfather</td>\n",
       "      <td>godmother</td>\n",
       "    </tr>\n",
       "  </tbody>\n",
       "</table>\n",
       "</div>"
      ],
      "text/plain": [
       "            maleL         femaleL\n",
       "4     businessman   businesswoman\n",
       "5         emperor         empress\n",
       "6           actor         actress\n",
       "7         brother          sister\n",
       "8            king           queen\n",
       "11   newspaperman  newspaperwoman\n",
       "16          prior        prioress\n",
       "23         nephew           niece\n",
       "24        batsman       batswoman\n",
       "31       salesman      saleswoman\n",
       "50           duke         duchess\n",
       "65        goodman           goody\n",
       "75          count        countess\n",
       "80        warlock           witch\n",
       "84         godson     goddaughter\n",
       "85      statesman     stateswoman\n",
       "88       grandson   granddaughter\n",
       "95      fisherman     fisherwoman\n",
       "97        stepson    stepdaughter\n",
       "100          ogre          ogress\n",
       "101          yogi          yogini\n",
       "102    godbrother       godsister\n",
       "118        prince        princess\n",
       "132           son        daughter\n",
       "145         uncle            aunt\n",
       "150     sportsman     sportswoman\n",
       "154    stepfather      stepmother\n",
       "166  frontiersman  frontierswoman\n",
       "171       himself         herself\n",
       "173        cowboy        cowgirls\n",
       "180   grandfather     grandmother\n",
       "181      nobleman      noblewoman\n",
       "185         baron        baroness\n",
       "188      handyman      handywoman\n",
       "196      chairman      chairwoman\n",
       "226     cameraman     camerawoman\n",
       "227       husband            wife\n",
       "232      huntsman        huntress\n",
       "295      houseboy            maid\n",
       "297        layman        laywoman\n",
       "300     godfather       godmother"
      ]
     },
     "execution_count": 27,
     "metadata": {},
     "output_type": "execute_result"
    }
   ],
   "source": [
    "male_female_model"
   ]
  },
  {
   "cell_type": "code",
   "execution_count": 28,
   "metadata": {},
   "outputs": [
    {
     "data": {
      "text/html": [
       "<div>\n",
       "<style scoped>\n",
       "    .dataframe tbody tr th:only-of-type {\n",
       "        vertical-align: middle;\n",
       "    }\n",
       "\n",
       "    .dataframe tbody tr th {\n",
       "        vertical-align: top;\n",
       "    }\n",
       "\n",
       "    .dataframe thead th {\n",
       "        text-align: right;\n",
       "    }\n",
       "</style>\n",
       "<table border=\"1\" class=\"dataframe\">\n",
       "  <thead>\n",
       "    <tr style=\"text-align: right;\">\n",
       "      <th></th>\n",
       "      <th>countryLabel</th>\n",
       "      <th>capitalLabel</th>\n",
       "    </tr>\n",
       "  </thead>\n",
       "  <tbody>\n",
       "    <tr>\n",
       "      <th>0</th>\n",
       "      <td>turkey</td>\n",
       "      <td>ankara</td>\n",
       "    </tr>\n",
       "    <tr>\n",
       "      <th>1</th>\n",
       "      <td>canada</td>\n",
       "      <td>ottawa</td>\n",
       "    </tr>\n",
       "    <tr>\n",
       "      <th>2</th>\n",
       "      <td>australia</td>\n",
       "      <td>canberra</td>\n",
       "    </tr>\n",
       "    <tr>\n",
       "      <th>3</th>\n",
       "      <td>england</td>\n",
       "      <td>london</td>\n",
       "    </tr>\n",
       "    <tr>\n",
       "      <th>4</th>\n",
       "      <td>iraq</td>\n",
       "      <td>baghdad</td>\n",
       "    </tr>\n",
       "    <tr>\n",
       "      <th>5</th>\n",
       "      <td>pakistan</td>\n",
       "      <td>islamabad</td>\n",
       "    </tr>\n",
       "    <tr>\n",
       "      <th>6</th>\n",
       "      <td>japan</td>\n",
       "      <td>tokyo</td>\n",
       "    </tr>\n",
       "    <tr>\n",
       "      <th>7</th>\n",
       "      <td>israel</td>\n",
       "      <td>jerusalem</td>\n",
       "    </tr>\n",
       "    <tr>\n",
       "      <th>8</th>\n",
       "      <td>nigeria</td>\n",
       "      <td>abuja</td>\n",
       "    </tr>\n",
       "    <tr>\n",
       "      <th>9</th>\n",
       "      <td>france</td>\n",
       "      <td>paris</td>\n",
       "    </tr>\n",
       "    <tr>\n",
       "      <th>10</th>\n",
       "      <td>iran</td>\n",
       "      <td>tehran</td>\n",
       "    </tr>\n",
       "    <tr>\n",
       "      <th>11</th>\n",
       "      <td>germany</td>\n",
       "      <td>berlin</td>\n",
       "    </tr>\n",
       "    <tr>\n",
       "      <th>12</th>\n",
       "      <td>spain</td>\n",
       "      <td>madrid</td>\n",
       "    </tr>\n",
       "    <tr>\n",
       "      <th>13</th>\n",
       "      <td>jordan</td>\n",
       "      <td>amman</td>\n",
       "    </tr>\n",
       "    <tr>\n",
       "      <th>14</th>\n",
       "      <td>italy</td>\n",
       "      <td>rome</td>\n",
       "    </tr>\n",
       "    <tr>\n",
       "      <th>15</th>\n",
       "      <td>russia</td>\n",
       "      <td>moscow</td>\n",
       "    </tr>\n",
       "    <tr>\n",
       "      <th>16</th>\n",
       "      <td>afghanistan</td>\n",
       "      <td>kabul</td>\n",
       "    </tr>\n",
       "    <tr>\n",
       "      <th>17</th>\n",
       "      <td>scotland</td>\n",
       "      <td>edinburgh</td>\n",
       "    </tr>\n",
       "    <tr>\n",
       "      <th>18</th>\n",
       "      <td>wales</td>\n",
       "      <td>cardiff</td>\n",
       "    </tr>\n",
       "    <tr>\n",
       "      <th>19</th>\n",
       "      <td>egypt</td>\n",
       "      <td>cairo</td>\n",
       "    </tr>\n",
       "    <tr>\n",
       "      <th>20</th>\n",
       "      <td>philippines</td>\n",
       "      <td>manila</td>\n",
       "    </tr>\n",
       "    <tr>\n",
       "      <th>21</th>\n",
       "      <td>lebanon</td>\n",
       "      <td>beirut</td>\n",
       "    </tr>\n",
       "    <tr>\n",
       "      <th>22</th>\n",
       "      <td>sweden</td>\n",
       "      <td>stockholm</td>\n",
       "    </tr>\n",
       "    <tr>\n",
       "      <th>23</th>\n",
       "      <td>cuba</td>\n",
       "      <td>havana</td>\n",
       "    </tr>\n",
       "    <tr>\n",
       "      <th>24</th>\n",
       "      <td>indonesia</td>\n",
       "      <td>jakarta</td>\n",
       "    </tr>\n",
       "    <tr>\n",
       "      <th>25</th>\n",
       "      <td>thailand</td>\n",
       "      <td>bangkok</td>\n",
       "    </tr>\n",
       "    <tr>\n",
       "      <th>26</th>\n",
       "      <td>greece</td>\n",
       "      <td>athens</td>\n",
       "    </tr>\n",
       "    <tr>\n",
       "      <th>27</th>\n",
       "      <td>kenya</td>\n",
       "      <td>nairobi</td>\n",
       "    </tr>\n",
       "    <tr>\n",
       "      <th>28</th>\n",
       "      <td>ghana</td>\n",
       "      <td>accra</td>\n",
       "    </tr>\n",
       "    <tr>\n",
       "      <th>29</th>\n",
       "      <td>bangladesh</td>\n",
       "      <td>dhaka</td>\n",
       "    </tr>\n",
       "    <tr>\n",
       "      <th>30</th>\n",
       "      <td>netherlands</td>\n",
       "      <td>amsterdam</td>\n",
       "    </tr>\n",
       "    <tr>\n",
       "      <th>31</th>\n",
       "      <td>libya</td>\n",
       "      <td>tripoli</td>\n",
       "    </tr>\n",
       "    <tr>\n",
       "      <th>32</th>\n",
       "      <td>portugal</td>\n",
       "      <td>lisbon</td>\n",
       "    </tr>\n",
       "    <tr>\n",
       "      <th>33</th>\n",
       "      <td>jamaica</td>\n",
       "      <td>kingston</td>\n",
       "    </tr>\n",
       "    <tr>\n",
       "      <th>34</th>\n",
       "      <td>nepal</td>\n",
       "      <td>kathmandu</td>\n",
       "    </tr>\n",
       "    <tr>\n",
       "      <th>35</th>\n",
       "      <td>poland</td>\n",
       "      <td>warsaw</td>\n",
       "    </tr>\n",
       "    <tr>\n",
       "      <th>36</th>\n",
       "      <td>austria</td>\n",
       "      <td>vienna</td>\n",
       "    </tr>\n",
       "    <tr>\n",
       "      <th>37</th>\n",
       "      <td>denmark</td>\n",
       "      <td>copenhagen</td>\n",
       "    </tr>\n",
       "    <tr>\n",
       "      <th>38</th>\n",
       "      <td>peru</td>\n",
       "      <td>lima</td>\n",
       "    </tr>\n",
       "    <tr>\n",
       "      <th>39</th>\n",
       "      <td>finland</td>\n",
       "      <td>helsinki</td>\n",
       "    </tr>\n",
       "    <tr>\n",
       "      <th>40</th>\n",
       "      <td>oman</td>\n",
       "      <td>muscat</td>\n",
       "    </tr>\n",
       "  </tbody>\n",
       "</table>\n",
       "</div>"
      ],
      "text/plain": [
       "   countryLabel capitalLabel\n",
       "0        turkey       ankara\n",
       "1        canada       ottawa\n",
       "2     australia     canberra\n",
       "3       england       london\n",
       "4          iraq      baghdad\n",
       "5      pakistan    islamabad\n",
       "6         japan        tokyo\n",
       "7        israel    jerusalem\n",
       "8       nigeria        abuja\n",
       "9        france        paris\n",
       "10         iran       tehran\n",
       "11      germany       berlin\n",
       "12        spain       madrid\n",
       "13       jordan        amman\n",
       "14        italy         rome\n",
       "15       russia       moscow\n",
       "16  afghanistan        kabul\n",
       "17     scotland    edinburgh\n",
       "18        wales      cardiff\n",
       "19        egypt        cairo\n",
       "20  philippines       manila\n",
       "21      lebanon       beirut\n",
       "22       sweden    stockholm\n",
       "23         cuba       havana\n",
       "24    indonesia      jakarta\n",
       "25     thailand      bangkok\n",
       "26       greece       athens\n",
       "27        kenya      nairobi\n",
       "28        ghana        accra\n",
       "29   bangladesh        dhaka\n",
       "30  netherlands    amsterdam\n",
       "31        libya      tripoli\n",
       "32     portugal       lisbon\n",
       "33      jamaica     kingston\n",
       "34        nepal    kathmandu\n",
       "35       poland       warsaw\n",
       "36      austria       vienna\n",
       "37      denmark   copenhagen\n",
       "38         peru         lima\n",
       "39      finland     helsinki\n",
       "40         oman       muscat"
      ]
     },
     "execution_count": 28,
     "metadata": {},
     "output_type": "execute_result"
    }
   ],
   "source": [
    "country_capital_model"
   ]
  },
  {
   "cell_type": "code",
   "execution_count": null,
   "metadata": {},
   "outputs": [],
   "source": [
    "w2v_model.most_similar(positive=[mf_pairs])"
   ]
  }
 ],
 "metadata": {
  "kernelspec": {
   "display_name": "Python 3",
   "language": "python",
   "name": "python3"
  },
  "language_info": {
   "codemirror_mode": {
    "name": "ipython",
    "version": 3
   },
   "file_extension": ".py",
   "mimetype": "text/x-python",
   "name": "python",
   "nbconvert_exporter": "python",
   "pygments_lexer": "ipython3",
   "version": "3.11.5"
  }
 },
 "nbformat": 4,
 "nbformat_minor": 2
}
